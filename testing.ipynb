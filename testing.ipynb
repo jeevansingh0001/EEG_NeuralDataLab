{
 "cells": [
  {
   "cell_type": "code",
   "execution_count": 2,
   "id": "26e271af",
   "metadata": {},
   "outputs": [
    {
     "name": "stdout",
     "output_type": "stream",
     "text": [
      "48.471875\n"
     ]
    }
   ],
   "source": [
    "import pandas as pd\n",
    "from sklearn.model_selection import train_test_split\n",
    "from sklearn.ensemble import ExtraTreesClassifier\n",
    "from sklearn.neighbors import KNeighborsClassifier\n",
    "from sklearn.ensemble import RandomForestClassifier\n",
    "from sklearn.tree import DecisionTreeClassifier\n",
    "from sklearn.decomposition import FastICA\n",
    "from sklearn.metrics import accuracy_score, precision_score\n",
    "\n",
    "data = pd.read_csv('tester.csv')\n",
    "# print(data.shape)\n",
    "\n",
    "ica = FastICA(n_components=10)\n",
    "X = data.drop(columns=['target', 'EEG.Counter', 'EEG.Interpolated'],axis=1)\n",
    "\n",
    "# print(X.head())\n",
    "y = data['target']\n",
    "X_trans = ica.fit_transform(X)\n",
    "# #train test split\n",
    "X_train, X_test, y_train, y_test = train_test_split(X_trans, y, test_size=0.25)\n",
    "clf = ExtraTreesClassifier()\n",
    "clf.fit(X_train, y_train)\n",
    "y_pred = clf.predict(X_test)\n",
    "acc = accuracy_score(y_test, y_pred)*100\n",
    "prec = precision_score(y_test, y_pred)*100\n",
    "# pickle.dump(clf, open(datafile+\"(Random_Forest).pkl\", \"wb\"))\n",
    "test = pd.read_csv(\"tester.csv\")\n",
    "x_tester = test.drop(columns=['target', 'EEG.Counter', 'EEG.Interpolated'],axis=1)\n",
    "y_tester = test['target']\n",
    "\n",
    "X_new = ica.fit_transform(x_tester)\n",
    "y_pred_new = clf.predict(X_new)\n",
    "acc2 = accuracy_score(y_tester, y_pred_new)*100\n",
    "print(acc2)\n"
   ]
  },
  {
   "cell_type": "code",
   "execution_count": null,
   "id": "2efa2358",
   "metadata": {},
   "outputs": [],
   "source": []
  }
 ],
 "metadata": {
  "kernelspec": {
   "display_name": "Python 3 (ipykernel)",
   "language": "python",
   "name": "python3"
  },
  "language_info": {
   "codemirror_mode": {
    "name": "ipython",
    "version": 3
   },
   "file_extension": ".py",
   "mimetype": "text/x-python",
   "name": "python",
   "nbconvert_exporter": "python",
   "pygments_lexer": "ipython3",
   "version": "3.9.12"
  }
 },
 "nbformat": 4,
 "nbformat_minor": 5
}
