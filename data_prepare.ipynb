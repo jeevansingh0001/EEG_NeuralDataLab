{
 "cells": [
  {
   "cell_type": "code",
   "execution_count": 1,
   "id": "68b190ba",
   "metadata": {},
   "outputs": [],
   "source": [
    "import pandas as pd\n",
    "\n",
    "from os import listdir\n",
    "\n",
    "\n",
    "\n",
    "# for i in range(len(csv_files)):\n",
    "def extractData(fileName):\n",
    "    data = pd.read_csv(fileName, skiprows=1)\n",
    "    # print(data.head())\n",
    "\n",
    "    data.columns\n",
    "    columns = ['EEG.Counter', 'EEG.Interpolated',\n",
    "            'EEG.AF3', 'EEG.F7', 'EEG.F3', 'EEG.FC5', 'EEG.T7', 'EEG.P7', 'EEG.O1',\n",
    "            'EEG.O2', 'EEG.P8', 'EEG.T8', 'EEG.FC6', 'EEG.F4', 'EEG.F8', 'EEG.AF4']\n",
    "\n",
    "    df = data[columns]\n",
    "    df.drop([k for k in range(0,124)], axis=0, inplace=True)\n",
    "    df.drop([k for k in range(124,636)], axis=0, inplace=True)\n",
    "    df.drop([k for k in range(32000,len(df))], axis=0, inplace=True)\n",
    "\n",
    "    df = df.reset_index()\n",
    "    df.drop('index', axis=1, inplace=True)\n",
    "\n",
    "    df['time_s'] = 0\n",
    "\n",
    "    count=1\n",
    "    for j in range(len(df)):\n",
    "        df['time_s'].iloc[j] = count\n",
    "        if(df['EEG.Counter'].iloc[j]==127):\n",
    "            count = count+1\n",
    "\n",
    "    t = [1]*128*10 + [1]*128*10 + [1]*128*10 + [0]*128*10 + [0]*128*10 + [1]*128*10 + [0]*128*10 + [1]*128*10 + [0]*128*10 + [1]*128*10 + [0]*128*10 + [0]*128*10 + [0]*128*10 + [1]*128*10 + [0]*128*10 + [0]*128*10 + [1]*128*10 + [0]*128*10 + [1]*128*10 + [0]*128*10 + [1]*128*10 + [0]*128*10 + [1]*128*10 + [1]*128*10 + [1]*128*10\n",
    "\n",
    "\n",
    "    df['target'] = t\n",
    "    df.head()\n",
    "\n",
    "\n",
    "    df.drop('time_s', axis=1, inplace=True)\n",
    "\n",
    "    df.to_csv(fileName + '(prepared_data).csv', index=False)\n",
    "    print(\"Data Processed\")"
   ]
  },
  {
   "cell_type": "code",
   "execution_count": null,
   "id": "c4a33ea4",
   "metadata": {},
   "outputs": [],
   "source": []
  }
 ],
 "metadata": {
  "kernelspec": {
   "display_name": "Python 3 (ipykernel)",
   "language": "python",
   "name": "python3"
  },
  "language_info": {
   "codemirror_mode": {
    "name": "ipython",
    "version": 3
   },
   "file_extension": ".py",
   "mimetype": "text/x-python",
   "name": "python",
   "nbconvert_exporter": "python",
   "pygments_lexer": "ipython3",
   "version": "3.9.12"
  }
 },
 "nbformat": 4,
 "nbformat_minor": 5
}
